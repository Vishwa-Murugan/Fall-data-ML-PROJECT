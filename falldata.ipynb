{
 "cells": [
  {
   "cell_type": "code",
   "execution_count": 2,
   "id": "59043cba-7896-47c3-9a54-e8c55686deb8",
   "metadata": {},
   "outputs": [
    {
     "name": "stderr",
     "output_type": "stream",
     "text": [
      "C:\\Users\\HP\\AppData\\Local\\Temp\\ipykernel_9836\\2937650959.py:1: DeprecationWarning: \n",
      "Pyarrow will become a required dependency of pandas in the next major release of pandas (pandas 3.0),\n",
      "(to allow more performant data types, such as the Arrow string type, and better interoperability with other libraries)\n",
      "but was not found to be installed on your system.\n",
      "If this would cause problems for you,\n",
      "please provide us feedback at https://github.com/pandas-dev/pandas/issues/54466\n",
      "        \n",
      "  import pandas as pd\n"
     ]
    }
   ],
   "source": [
    "import pandas as pd\n",
    "import numpy as np\n"
   ]
  },
  {
   "cell_type": "code",
   "execution_count": 3,
   "id": "f4280003-b0ce-4960-adb9-d3f93c055f7d",
   "metadata": {},
   "outputs": [
    {
     "data": {
      "text/html": [
       "<div>\n",
       "<style scoped>\n",
       "    .dataframe tbody tr th:only-of-type {\n",
       "        vertical-align: middle;\n",
       "    }\n",
       "\n",
       "    .dataframe tbody tr th {\n",
       "        vertical-align: top;\n",
       "    }\n",
       "\n",
       "    .dataframe thead th {\n",
       "        text-align: right;\n",
       "    }\n",
       "</style>\n",
       "<table border=\"1\" class=\"dataframe\">\n",
       "  <thead>\n",
       "    <tr style=\"text-align: right;\">\n",
       "      <th></th>\n",
       "      <th>Time</th>\n",
       "      <th>a.x</th>\n",
       "      <th>a.y</th>\n",
       "      <th>a.z</th>\n",
       "      <th>gForce</th>\n",
       "      <th>fall state</th>\n",
       "    </tr>\n",
       "  </thead>\n",
       "  <tbody>\n",
       "    <tr>\n",
       "      <th>0</th>\n",
       "      <td>18:24:06</td>\n",
       "      <td>2.67</td>\n",
       "      <td>-0.26</td>\n",
       "      <td>11.29</td>\n",
       "      <td>1.18</td>\n",
       "      <td>0.0</td>\n",
       "    </tr>\n",
       "    <tr>\n",
       "      <th>1</th>\n",
       "      <td>18:24:16</td>\n",
       "      <td>2.58</td>\n",
       "      <td>-0.19</td>\n",
       "      <td>11.33</td>\n",
       "      <td>1.18</td>\n",
       "      <td>0.0</td>\n",
       "    </tr>\n",
       "    <tr>\n",
       "      <th>2</th>\n",
       "      <td>18:24:26</td>\n",
       "      <td>-5.72</td>\n",
       "      <td>0.47</td>\n",
       "      <td>8.69</td>\n",
       "      <td>1.06</td>\n",
       "      <td>0.0</td>\n",
       "    </tr>\n",
       "    <tr>\n",
       "      <th>3</th>\n",
       "      <td>18:24:37</td>\n",
       "      <td>4.80</td>\n",
       "      <td>2.37</td>\n",
       "      <td>10.47</td>\n",
       "      <td>1.20</td>\n",
       "      <td>0.0</td>\n",
       "    </tr>\n",
       "    <tr>\n",
       "      <th>4</th>\n",
       "      <td>18:24:47</td>\n",
       "      <td>-9.43</td>\n",
       "      <td>-0.18</td>\n",
       "      <td>1.81</td>\n",
       "      <td>0.98</td>\n",
       "      <td>0.0</td>\n",
       "    </tr>\n",
       "  </tbody>\n",
       "</table>\n",
       "</div>"
      ],
      "text/plain": [
       "       Time   a.x   a.y    a.z  gForce   fall state\n",
       "0  18:24:06  2.67 -0.26  11.29     1.18         0.0\n",
       "1  18:24:16  2.58 -0.19  11.33     1.18         0.0\n",
       "2  18:24:26 -5.72  0.47   8.69     1.06         0.0\n",
       "3  18:24:37  4.80  2.37  10.47     1.20         0.0\n",
       "4  18:24:47 -9.43 -0.18   1.81     0.98         0.0"
      ]
     },
     "execution_count": 3,
     "metadata": {},
     "output_type": "execute_result"
    }
   ],
   "source": [
    "data = pd.read_csv('./falldata.csv')\n",
    "data.head()"
   ]
  },
  {
   "cell_type": "code",
   "execution_count": 4,
   "id": "1327d9f2-9ff8-4739-b5f4-b0d2f26f4982",
   "metadata": {},
   "outputs": [
    {
     "data": {
      "text/plain": [
       "Index(['Time', 'a.x', 'a.y', 'a.z', 'gForce ', 'fall state'], dtype='object')"
      ]
     },
     "execution_count": 4,
     "metadata": {},
     "output_type": "execute_result"
    }
   ],
   "source": [
    "data.columns"
   ]
  },
  {
   "cell_type": "code",
   "execution_count": 5,
   "id": "1cb0d8cc-5537-41db-b1a7-c9b32ac888e3",
   "metadata": {},
   "outputs": [
    {
     "data": {
      "text/plain": [
       "(4427, 6)"
      ]
     },
     "execution_count": 5,
     "metadata": {},
     "output_type": "execute_result"
    }
   ],
   "source": [
    "data.shape\n"
   ]
  },
  {
   "cell_type": "code",
   "execution_count": 6,
   "id": "4cb8aedb-c99c-4bee-b5b0-768d92aa195e",
   "metadata": {},
   "outputs": [
    {
     "name": "stdout",
     "output_type": "stream",
     "text": [
      "<class 'pandas.core.frame.DataFrame'>\n",
      "RangeIndex: 4427 entries, 0 to 4426\n",
      "Data columns (total 6 columns):\n",
      " #   Column      Non-Null Count  Dtype  \n",
      "---  ------      --------------  -----  \n",
      " 0   Time        4415 non-null   object \n",
      " 1   a.x         4410 non-null   float64\n",
      " 2   a.y         4410 non-null   float64\n",
      " 3   a.z         4410 non-null   float64\n",
      " 4   gForce      4410 non-null   float64\n",
      " 5   fall state  4410 non-null   float64\n",
      "dtypes: float64(5), object(1)\n",
      "memory usage: 207.6+ KB\n"
     ]
    }
   ],
   "source": [
    "data.info()"
   ]
  },
  {
   "cell_type": "code",
   "execution_count": 7,
   "id": "ba3d04c9-e39c-4a69-b870-d8030dde625a",
   "metadata": {},
   "outputs": [
    {
     "data": {
      "text/plain": [
       "Time          12\n",
       "a.x           17\n",
       "a.y           17\n",
       "a.z           17\n",
       "gForce        17\n",
       "fall state    17\n",
       "dtype: int64"
      ]
     },
     "execution_count": 7,
     "metadata": {},
     "output_type": "execute_result"
    }
   ],
   "source": [
    "data.isna().sum()"
   ]
  },
  {
   "cell_type": "code",
   "execution_count": 8,
   "id": "9940f047-45d3-44ec-b9db-ac8046e909c1",
   "metadata": {},
   "outputs": [
    {
     "data": {
      "text/html": [
       "<div>\n",
       "<style scoped>\n",
       "    .dataframe tbody tr th:only-of-type {\n",
       "        vertical-align: middle;\n",
       "    }\n",
       "\n",
       "    .dataframe tbody tr th {\n",
       "        vertical-align: top;\n",
       "    }\n",
       "\n",
       "    .dataframe thead th {\n",
       "        text-align: right;\n",
       "    }\n",
       "</style>\n",
       "<table border=\"1\" class=\"dataframe\">\n",
       "  <thead>\n",
       "    <tr style=\"text-align: right;\">\n",
       "      <th></th>\n",
       "      <th>a.x</th>\n",
       "      <th>a.y</th>\n",
       "      <th>a.z</th>\n",
       "      <th>gForce</th>\n",
       "      <th>fall state</th>\n",
       "    </tr>\n",
       "  </thead>\n",
       "  <tbody>\n",
       "    <tr>\n",
       "      <th>count</th>\n",
       "      <td>4410.000000</td>\n",
       "      <td>4410.000000</td>\n",
       "      <td>4410.000000</td>\n",
       "      <td>4410.000000</td>\n",
       "      <td>4410.000000</td>\n",
       "    </tr>\n",
       "    <tr>\n",
       "      <th>mean</th>\n",
       "      <td>-4.120336</td>\n",
       "      <td>0.218517</td>\n",
       "      <td>5.360218</td>\n",
       "      <td>1.052009</td>\n",
       "      <td>0.041950</td>\n",
       "    </tr>\n",
       "    <tr>\n",
       "      <th>std</th>\n",
       "      <td>5.379345</td>\n",
       "      <td>3.177906</td>\n",
       "      <td>5.111310</td>\n",
       "      <td>0.213424</td>\n",
       "      <td>0.200498</td>\n",
       "    </tr>\n",
       "    <tr>\n",
       "      <th>min</th>\n",
       "      <td>-33.920000</td>\n",
       "      <td>-18.160000</td>\n",
       "      <td>-22.330000</td>\n",
       "      <td>0.000000</td>\n",
       "      <td>0.000000</td>\n",
       "    </tr>\n",
       "    <tr>\n",
       "      <th>25%</th>\n",
       "      <td>-9.490000</td>\n",
       "      <td>-1.440000</td>\n",
       "      <td>1.190000</td>\n",
       "      <td>0.990000</td>\n",
       "      <td>0.000000</td>\n",
       "    </tr>\n",
       "    <tr>\n",
       "      <th>50%</th>\n",
       "      <td>-2.235000</td>\n",
       "      <td>0.080000</td>\n",
       "      <td>5.400000</td>\n",
       "      <td>1.030000</td>\n",
       "      <td>0.000000</td>\n",
       "    </tr>\n",
       "    <tr>\n",
       "      <th>75%</th>\n",
       "      <td>-0.310000</td>\n",
       "      <td>1.160000</td>\n",
       "      <td>9.900000</td>\n",
       "      <td>1.050000</td>\n",
       "      <td>0.000000</td>\n",
       "    </tr>\n",
       "    <tr>\n",
       "      <th>max</th>\n",
       "      <td>28.060000</td>\n",
       "      <td>19.290000</td>\n",
       "      <td>26.100000</td>\n",
       "      <td>4.330000</td>\n",
       "      <td>1.000000</td>\n",
       "    </tr>\n",
       "  </tbody>\n",
       "</table>\n",
       "</div>"
      ],
      "text/plain": [
       "               a.x          a.y          a.z      gForce    fall state\n",
       "count  4410.000000  4410.000000  4410.000000  4410.000000  4410.000000\n",
       "mean     -4.120336     0.218517     5.360218     1.052009     0.041950\n",
       "std       5.379345     3.177906     5.111310     0.213424     0.200498\n",
       "min     -33.920000   -18.160000   -22.330000     0.000000     0.000000\n",
       "25%      -9.490000    -1.440000     1.190000     0.990000     0.000000\n",
       "50%      -2.235000     0.080000     5.400000     1.030000     0.000000\n",
       "75%      -0.310000     1.160000     9.900000     1.050000     0.000000\n",
       "max      28.060000    19.290000    26.100000     4.330000     1.000000"
      ]
     },
     "execution_count": 8,
     "metadata": {},
     "output_type": "execute_result"
    }
   ],
   "source": [
    "data.describe()"
   ]
  },
  {
   "cell_type": "code",
   "execution_count": 9,
   "id": "a3ec50e2-7d5d-4fb3-af1c-54561effa4c4",
   "metadata": {},
   "outputs": [],
   "source": [
    "data.fillna(0, inplace=True)"
   ]
  },
  {
   "cell_type": "code",
   "execution_count": 10,
   "id": "bf016e30-ee51-4dcf-af77-6175bc81054a",
   "metadata": {},
   "outputs": [
    {
     "name": "stdout",
     "output_type": "stream",
     "text": [
      "<class 'pandas.core.frame.DataFrame'>\n",
      "RangeIndex: 4427 entries, 0 to 4426\n",
      "Data columns (total 6 columns):\n",
      " #   Column      Non-Null Count  Dtype  \n",
      "---  ------      --------------  -----  \n",
      " 0   Time        4427 non-null   object \n",
      " 1   a.x         4427 non-null   float64\n",
      " 2   a.y         4427 non-null   float64\n",
      " 3   a.z         4427 non-null   float64\n",
      " 4   gForce      4427 non-null   float64\n",
      " 5   fall state  4427 non-null   float64\n",
      "dtypes: float64(5), object(1)\n",
      "memory usage: 207.6+ KB\n"
     ]
    }
   ],
   "source": [
    "data.info()"
   ]
  },
  {
   "cell_type": "code",
   "execution_count": 11,
   "id": "e7d87537-840b-4a9e-a425-8969f8a788bc",
   "metadata": {},
   "outputs": [
    {
     "name": "stderr",
     "output_type": "stream",
     "text": [
      "C:\\Users\\HP\\AppData\\Local\\Temp\\ipykernel_9836\\3067409616.py:2: FutureWarning: A value is trying to be set on a copy of a DataFrame or Series through chained assignment using an inplace method.\n",
      "The behavior will change in pandas 3.0. This inplace method will never work because the intermediate object on which we are setting values always behaves as a copy.\n",
      "\n",
      "For example, when doing 'df[col].method(value, inplace=True)', try using 'df.method({col: value}, inplace=True)' or df[col] = df[col].method(value) instead, to perform the operation inplace on the original object.\n",
      "\n",
      "\n",
      "  data[c].fillna(0, inplace=True)\n"
     ]
    }
   ],
   "source": [
    "for c in data.select_dtypes(include=['object']):\n",
    "    data[c].fillna(0, inplace=True)"
   ]
  },
  {
   "cell_type": "code",
   "execution_count": 12,
   "id": "89e6bca5-9492-4e5d-a16f-c0496b089f32",
   "metadata": {},
   "outputs": [
    {
     "name": "stdout",
     "output_type": "stream",
     "text": [
      "<class 'pandas.core.frame.DataFrame'>\n",
      "RangeIndex: 4427 entries, 0 to 4426\n",
      "Data columns (total 6 columns):\n",
      " #   Column      Non-Null Count  Dtype  \n",
      "---  ------      --------------  -----  \n",
      " 0   Time        4427 non-null   object \n",
      " 1   a.x         4427 non-null   float64\n",
      " 2   a.y         4427 non-null   float64\n",
      " 3   a.z         4427 non-null   float64\n",
      " 4   gForce      4427 non-null   float64\n",
      " 5   fall state  4427 non-null   float64\n",
      "dtypes: float64(5), object(1)\n",
      "memory usage: 207.6+ KB\n"
     ]
    }
   ],
   "source": [
    "data.info()"
   ]
  },
  {
   "cell_type": "code",
   "execution_count": 14,
   "id": "93547497-07fa-493e-956a-6665005c2275",
   "metadata": {},
   "outputs": [],
   "source": [
    "data.to_csv('falldata.csv')"
   ]
  },
  {
   "cell_type": "code",
   "execution_count": 17,
   "id": "0ed5dbd2-11d9-4cf0-86ea-b235404033d9",
   "metadata": {},
   "outputs": [],
   "source": [
    "data=data.drop('Time',axis=1)"
   ]
  },
  {
   "cell_type": "code",
   "execution_count": 18,
   "id": "75e10672-849d-4eaf-8ae0-6c2aeeff7ed1",
   "metadata": {},
   "outputs": [
    {
     "name": "stdout",
     "output_type": "stream",
     "text": [
      "<class 'pandas.core.frame.DataFrame'>\n",
      "RangeIndex: 4427 entries, 0 to 4426\n",
      "Data columns (total 5 columns):\n",
      " #   Column      Non-Null Count  Dtype  \n",
      "---  ------      --------------  -----  \n",
      " 0   a.x         4427 non-null   float64\n",
      " 1   a.y         4427 non-null   float64\n",
      " 2   a.z         4427 non-null   float64\n",
      " 3   gForce      4427 non-null   float64\n",
      " 4   fall state  4427 non-null   float64\n",
      "dtypes: float64(5)\n",
      "memory usage: 173.1 KB\n"
     ]
    }
   ],
   "source": [
    "data.info()"
   ]
  },
  {
   "cell_type": "code",
   "execution_count": 20,
   "id": "be841d99-bdcb-46ea-9f01-6b218cac805a",
   "metadata": {},
   "outputs": [],
   "source": [
    "from sklearn.model_selection import train_test_split\n",
    "from sklearn.metrics import accuracy_score\n",
    "import numpy as np\n",
    "X = data.drop('fall state', axis=1)  # Features\n",
    "y = data['fall state']  # Target"
   ]
  },
  {
   "cell_type": "code",
   "execution_count": 21,
   "id": "a608c48f-f127-43a5-aa54-7f985e855157",
   "metadata": {},
   "outputs": [],
   "source": [
    "X_train, X_test, y_train, y_test = train_test_split(X, y, test_size=0.2, random_state=42)"
   ]
  },
  {
   "cell_type": "code",
   "execution_count": 22,
   "id": "bebac349-375b-48c8-b7a8-93a7b6238d99",
   "metadata": {},
   "outputs": [
    {
     "data": {
      "text/html": [
       "<div>\n",
       "<style scoped>\n",
       "    .dataframe tbody tr th:only-of-type {\n",
       "        vertical-align: middle;\n",
       "    }\n",
       "\n",
       "    .dataframe tbody tr th {\n",
       "        vertical-align: top;\n",
       "    }\n",
       "\n",
       "    .dataframe thead th {\n",
       "        text-align: right;\n",
       "    }\n",
       "</style>\n",
       "<table border=\"1\" class=\"dataframe\">\n",
       "  <thead>\n",
       "    <tr style=\"text-align: right;\">\n",
       "      <th></th>\n",
       "      <th>a.x</th>\n",
       "      <th>a.y</th>\n",
       "      <th>a.z</th>\n",
       "      <th>gForce</th>\n",
       "    </tr>\n",
       "  </thead>\n",
       "  <tbody>\n",
       "    <tr>\n",
       "      <th>1264</th>\n",
       "      <td>-9.62</td>\n",
       "      <td>0.79</td>\n",
       "      <td>1.40</td>\n",
       "      <td>0.99</td>\n",
       "    </tr>\n",
       "    <tr>\n",
       "      <th>1907</th>\n",
       "      <td>-2.11</td>\n",
       "      <td>2.98</td>\n",
       "      <td>10.57</td>\n",
       "      <td>1.14</td>\n",
       "    </tr>\n",
       "    <tr>\n",
       "      <th>436</th>\n",
       "      <td>0.15</td>\n",
       "      <td>-3.08</td>\n",
       "      <td>9.63</td>\n",
       "      <td>1.03</td>\n",
       "    </tr>\n",
       "    <tr>\n",
       "      <th>3963</th>\n",
       "      <td>-9.56</td>\n",
       "      <td>0.38</td>\n",
       "      <td>1.48</td>\n",
       "      <td>0.99</td>\n",
       "    </tr>\n",
       "    <tr>\n",
       "      <th>2698</th>\n",
       "      <td>-9.60</td>\n",
       "      <td>-0.07</td>\n",
       "      <td>-0.86</td>\n",
       "      <td>0.98</td>\n",
       "    </tr>\n",
       "    <tr>\n",
       "      <th>...</th>\n",
       "      <td>...</td>\n",
       "      <td>...</td>\n",
       "      <td>...</td>\n",
       "      <td>...</td>\n",
       "    </tr>\n",
       "    <tr>\n",
       "      <th>3444</th>\n",
       "      <td>0.00</td>\n",
       "      <td>1.08</td>\n",
       "      <td>10.13</td>\n",
       "      <td>1.04</td>\n",
       "    </tr>\n",
       "    <tr>\n",
       "      <th>466</th>\n",
       "      <td>0.15</td>\n",
       "      <td>-3.13</td>\n",
       "      <td>9.65</td>\n",
       "      <td>1.03</td>\n",
       "    </tr>\n",
       "    <tr>\n",
       "      <th>3092</th>\n",
       "      <td>-4.29</td>\n",
       "      <td>0.06</td>\n",
       "      <td>8.90</td>\n",
       "      <td>1.01</td>\n",
       "    </tr>\n",
       "    <tr>\n",
       "      <th>3772</th>\n",
       "      <td>-1.02</td>\n",
       "      <td>-0.74</td>\n",
       "      <td>9.97</td>\n",
       "      <td>1.02</td>\n",
       "    </tr>\n",
       "    <tr>\n",
       "      <th>860</th>\n",
       "      <td>-7.03</td>\n",
       "      <td>4.94</td>\n",
       "      <td>6.66</td>\n",
       "      <td>1.11</td>\n",
       "    </tr>\n",
       "  </tbody>\n",
       "</table>\n",
       "<p>3541 rows × 4 columns</p>\n",
       "</div>"
      ],
      "text/plain": [
       "       a.x   a.y    a.z  gForce \n",
       "1264 -9.62  0.79   1.40     0.99\n",
       "1907 -2.11  2.98  10.57     1.14\n",
       "436   0.15 -3.08   9.63     1.03\n",
       "3963 -9.56  0.38   1.48     0.99\n",
       "2698 -9.60 -0.07  -0.86     0.98\n",
       "...    ...   ...    ...      ...\n",
       "3444  0.00  1.08  10.13     1.04\n",
       "466   0.15 -3.13   9.65     1.03\n",
       "3092 -4.29  0.06   8.90     1.01\n",
       "3772 -1.02 -0.74   9.97     1.02\n",
       "860  -7.03  4.94   6.66     1.11\n",
       "\n",
       "[3541 rows x 4 columns]"
      ]
     },
     "execution_count": 22,
     "metadata": {},
     "output_type": "execute_result"
    }
   ],
   "source": [
    "X_train"
   ]
  },
  {
   "cell_type": "code",
   "execution_count": 23,
   "id": "b953176c-f181-40c9-b531-d17a7fa7ac68",
   "metadata": {},
   "outputs": [],
   "source": [
    "from sklearn.linear_model import LinearRegression\n",
    "\n",
    "lr = LinearRegression()\n",
    "lr.fit(X_train, y_train)\n",
    "y_pred_lr = lr.predict(X_test)"
   ]
  },
  {
   "cell_type": "code",
   "execution_count": 24,
   "id": "412be998-f037-46bc-8010-033007ff31d3",
   "metadata": {},
   "outputs": [
    {
     "name": "stdout",
     "output_type": "stream",
     "text": [
      "Mean Squared Error: 0.02387394560684262\n",
      "R-squared: 0.4034014005160592\n"
     ]
    }
   ],
   "source": [
    "from sklearn.metrics import mean_squared_error, r2_score\n",
    "mse = mean_squared_error(y_test, y_pred_lr)\n",
    "print(\"Mean Squared Error:\", mse)\n",
    "r2 = r2_score(y_test, y_pred_lr)\n",
    "print(\"R-squared:\", r2)"
   ]
  },
  {
   "cell_type": "code",
   "execution_count": 25,
   "id": "784a2c02-0bc0-4cd8-92b7-47d3659e4026",
   "metadata": {},
   "outputs": [
    {
     "data": {
      "text/plain": [
       "98.30699774266365"
      ]
     },
     "execution_count": 25,
     "metadata": {},
     "output_type": "execute_result"
    }
   ],
   "source": [
    "from sklearn.linear_model import LogisticRegression\n",
    "log_reg = LogisticRegression(max_iter=1000)\n",
    "log_reg.fit(X_train, y_train)\n",
    "y_pred = log_reg.predict(X_test)\n",
    "accuracy = accuracy_score(y_test, y_pred)\n",
    "accuracy*100"
   ]
  },
  {
   "cell_type": "code",
   "execution_count": 26,
   "id": "a33faf39-efb4-4db0-92f6-dcee1b05c298",
   "metadata": {},
   "outputs": [
    {
     "name": "stdout",
     "output_type": "stream",
     "text": [
      "KNN Accuracy: 98.87133182844244\n"
     ]
    }
   ],
   "source": [
    "from sklearn.neighbors import KNeighborsClassifier\n",
    "knn = KNeighborsClassifier(n_neighbors=3)\n",
    "knn.fit(X_train, y_train)\n",
    "y_pred_knn = knn.predict(X_test)\n",
    "print(\"KNN Accuracy:\", accuracy_score(y_test, y_pred_knn)*100)"
   ]
  },
  {
   "cell_type": "code",
   "execution_count": 27,
   "id": "5a83f4d4-63af-4cbd-9151-d835ec31b4bf",
   "metadata": {},
   "outputs": [
    {
     "name": "stdout",
     "output_type": "stream",
     "text": [
      "Naive Bayes Accuracy: 97.40406320541761\n"
     ]
    }
   ],
   "source": [
    "from sklearn.naive_bayes import GaussianNB\n",
    "gnb = GaussianNB()\n",
    "gnb.fit(X_train, y_train)\n",
    "y_pred_gnb = gnb.predict(X_test)\n",
    "print(\"Naive Bayes Accuracy:\", accuracy_score(y_test, y_pred_gnb)*100)"
   ]
  },
  {
   "cell_type": "code",
   "execution_count": 28,
   "id": "0e2cd1d5-8e2a-4393-8434-965dcd1b9f84",
   "metadata": {},
   "outputs": [
    {
     "name": "stdout",
     "output_type": "stream",
     "text": [
      "Decision Tree Accuracy: 99.09706546275395\n"
     ]
    }
   ],
   "source": [
    "from sklearn.tree import DecisionTreeClassifier\n",
    "dt = DecisionTreeClassifier()\n",
    "dt.fit(X_train, y_train)\n",
    "y_pred_dt = dt.predict(X_test)\n",
    "print(\"Decision Tree Accuracy:\", accuracy_score(y_test, y_pred_dt)*100)"
   ]
  },
  {
   "cell_type": "code",
   "execution_count": 29,
   "id": "fff07a26-a228-4882-ac7b-59d4931b5cb2",
   "metadata": {},
   "outputs": [
    {
     "name": "stdout",
     "output_type": "stream",
     "text": [
      "Random Forest Accuracy: 98.9841986455982\n"
     ]
    }
   ],
   "source": [
    "from sklearn.ensemble import RandomForestClassifier\n",
    "rf = RandomForestClassifier(n_estimators=100)\n",
    "rf.fit(X_train, y_train)\n",
    "y_pred_rf = rf.predict(X_test)\n",
    "print(\"Random Forest Accuracy:\", accuracy_score(y_test, y_pred_rf)*100)"
   ]
  },
  {
   "cell_type": "code",
   "execution_count": null,
   "id": "07693e39-fd10-43d2-99aa-9e1304f8e2cb",
   "metadata": {},
   "outputs": [],
   "source": []
  }
 ],
 "metadata": {
  "kernelspec": {
   "display_name": "Python 3 (ipykernel)",
   "language": "python",
   "name": "python3"
  },
  "language_info": {
   "codemirror_mode": {
    "name": "ipython",
    "version": 3
   },
   "file_extension": ".py",
   "mimetype": "text/x-python",
   "name": "python",
   "nbconvert_exporter": "python",
   "pygments_lexer": "ipython3",
   "version": "3.12.1"
  }
 },
 "nbformat": 4,
 "nbformat_minor": 5
}
